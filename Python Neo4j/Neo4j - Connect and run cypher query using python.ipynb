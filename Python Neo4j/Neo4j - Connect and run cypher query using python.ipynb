{
 "cells": [
  {
   "cell_type": "markdown",
   "metadata": {},
   "source": [
    "<center><h2>Connect and run cypher query using python</h2></center>\n",
    "\n",
    "<p>Neo4j is the graph database platform powering mission-critical enterprise applications like artificial intelligence, fraud detection and recommendations. </p>\n",
    "\n",
    "Requirements :\n",
    "> - Python 3.x \n",
    "> - py2neo"
   ]
  },
  {
   "cell_type": "markdown",
   "metadata": {},
   "source": [
    "#### Setup\n",
    "1. Install python in your machine. you can use anaconda go to [anaconda website](https://www.anaconda.com/products/individual#Downloads) or native installation [python website](https://www.python.org/downloads/)\n",
    "\n",
    "2. Install py2neo Library using pip"
   ]
  },
  {
   "cell_type": "code",
   "execution_count": 3,
   "metadata": {
    "scrolled": false
   },
   "outputs": [
    {
     "name": "stdout",
     "output_type": "stream",
     "text": [
      "Collecting py2neo\n",
      "  Using cached py2neo-2021.0.0-py2.py3-none-any.whl (193 kB)\n",
      "Requirement already satisfied: cryptography in /Users/ichwanyasir/opt/anaconda3/lib/python3.8/site-packages (from py2neo) (3.1.1)\n",
      "Collecting prompt-toolkit~=2.0.7\n",
      "  Using cached prompt_toolkit-2.0.10-py3-none-any.whl (340 kB)\n",
      "Collecting docker\n",
      "  Using cached docker-4.4.1-py2.py3-none-any.whl (146 kB)\n",
      "Requirement already satisfied: six>=1.15.0 in /Users/ichwanyasir/opt/anaconda3/lib/python3.8/site-packages (from py2neo) (1.15.0)\n",
      "Requirement already satisfied: pytz in /Users/ichwanyasir/opt/anaconda3/lib/python3.8/site-packages (from py2neo) (2020.1)\n",
      "Collecting monotonic\n",
      "  Using cached monotonic-1.5-py2.py3-none-any.whl (5.3 kB)\n",
      "Collecting english\n",
      "  Using cached english-2020.7.0-py2.py3-none-any.whl (8.1 kB)\n",
      "Requirement already satisfied: certifi in /Users/ichwanyasir/opt/anaconda3/lib/python3.8/site-packages (from py2neo) (2020.6.20)\n",
      "Requirement already satisfied: pygments>=2.0.0 in /Users/ichwanyasir/opt/anaconda3/lib/python3.8/site-packages (from py2neo) (2.7.2)\n",
      "Requirement already satisfied: urllib3 in /Users/ichwanyasir/opt/anaconda3/lib/python3.8/site-packages (from py2neo) (1.25.11)\n",
      "Collecting pansi>=2020.7.3\n",
      "  Using cached pansi-2020.7.3-py2.py3-none-any.whl (10 kB)\n",
      "Processing /Users/ichwanyasir/Library/Caches/pip/wheels/84/2d/01/a397b73c9e48f6c44342c06c436b20b44d53a71f6ba972a992/neotime-1.7.4-py3-none-any.whl\n",
      "Requirement already satisfied: packaging in /Users/ichwanyasir/opt/anaconda3/lib/python3.8/site-packages (from py2neo) (20.4)\n",
      "Requirement already satisfied: cffi!=1.11.3,>=1.8 in /Users/ichwanyasir/opt/anaconda3/lib/python3.8/site-packages (from cryptography->py2neo) (1.14.3)\n",
      "Requirement already satisfied: wcwidth in /Users/ichwanyasir/opt/anaconda3/lib/python3.8/site-packages (from prompt-toolkit~=2.0.7->py2neo) (0.2.5)\n",
      "Requirement already satisfied: requests!=2.18.0,>=2.14.2 in /Users/ichwanyasir/opt/anaconda3/lib/python3.8/site-packages (from docker->py2neo) (2.24.0)\n",
      "Collecting websocket-client>=0.32.0\n",
      "  Using cached websocket_client-0.57.0-py2.py3-none-any.whl (200 kB)\n",
      "Requirement already satisfied: pyparsing>=2.0.2 in /Users/ichwanyasir/opt/anaconda3/lib/python3.8/site-packages (from packaging->py2neo) (2.4.7)\n",
      "Requirement already satisfied: pycparser in /Users/ichwanyasir/opt/anaconda3/lib/python3.8/site-packages (from cffi!=1.11.3,>=1.8->cryptography->py2neo) (2.20)\n",
      "Requirement already satisfied: idna<3,>=2.5 in /Users/ichwanyasir/opt/anaconda3/lib/python3.8/site-packages (from requests!=2.18.0,>=2.14.2->docker->py2neo) (2.10)\n",
      "Requirement already satisfied: chardet<4,>=3.0.2 in /Users/ichwanyasir/opt/anaconda3/lib/python3.8/site-packages (from requests!=2.18.0,>=2.14.2->docker->py2neo) (3.0.4)\n",
      "Installing collected packages: prompt-toolkit, websocket-client, docker, monotonic, english, pansi, neotime, py2neo\n",
      "  Attempting uninstall: prompt-toolkit\n",
      "    Found existing installation: prompt-toolkit 3.0.8\n",
      "    Uninstalling prompt-toolkit-3.0.8:\n",
      "      Successfully uninstalled prompt-toolkit-3.0.8\n",
      "Successfully installed docker-4.4.1 english-2020.7.0 monotonic-1.5 neotime-1.7.4 pansi-2020.7.3 prompt-toolkit-2.0.10 py2neo-2021.0.0 websocket-client-0.57.0\n"
     ]
    }
   ],
   "source": [
    "# Install a pip package in the current Jupyter kernel\n",
    "import sys\n",
    "!{sys.executable} -m pip install py2neo"
   ]
  },
  {
   "cell_type": "code",
   "execution_count": 1,
   "metadata": {},
   "outputs": [],
   "source": [
    "# Import Graph function\n",
    "from py2neo import Graph"
   ]
  },
  {
   "cell_type": "code",
   "execution_count": 2,
   "metadata": {},
   "outputs": [],
   "source": [
    "# Create connection into server with credentials \n",
    "bolt_url = \"bolt://localhost:7687\"\n",
    "username = \"username\"\n",
    "password = \"password\"\n",
    "\n",
    "graph = Graph(bolt_url, user=username, password=password)"
   ]
  },
  {
   "cell_type": "markdown",
   "metadata": {},
   "source": [
    "you just connect into your neo4j server, next we will try to execute cypher query."
   ]
  },
  {
   "cell_type": "code",
   "execution_count": 24,
   "metadata": {},
   "outputs": [],
   "source": [
    "# Run Cypher query\n",
    "query = \"\"\"MATCH (n:States) RETURN \n",
    "n.continent as continent, \n",
    "n.country as country, \n",
    "n.currencies as currencies,\n",
    "n.languages as languages,\n",
    "n.country_code_2 as country_code_2, \n",
    "n.country_code_3 as country_code_3\n",
    "LIMIT 25\"\"\"\n",
    "results = graph.run(query)"
   ]
  },
  {
   "cell_type": "code",
   "execution_count": 21,
   "metadata": {},
   "outputs": [],
   "source": [
    "# Convert to list of object\n",
    "res_list = results.data()"
   ]
  },
  {
   "cell_type": "markdown",
   "metadata": {},
   "source": [
    "Displaying the top 10 result"
   ]
  },
  {
   "cell_type": "code",
   "execution_count": 23,
   "metadata": {},
   "outputs": [
    {
     "data": {
      "text/plain": [
       "[{'continent': 'Americas',\n",
       "  'country': 'Argentina',\n",
       "  'currencies': ['ARS'],\n",
       "  'languages': ['spa'],\n",
       "  'country_code_2': 'AR',\n",
       "  'country_code_3': 'ARG'},\n",
       " {'continent': 'Americas',\n",
       "  'country': 'Uruguay',\n",
       "  'currencies': ['UYU', 'UYI'],\n",
       "  'languages': ['spa'],\n",
       "  'country_code_2': 'UY',\n",
       "  'country_code_3': 'URY'},\n",
       " {'continent': 'Asia',\n",
       "  'country': 'Pakistan',\n",
       "  'currencies': ['PKR'],\n",
       "  'languages': ['urd', 'eng'],\n",
       "  'country_code_2': 'PK',\n",
       "  'country_code_3': 'PAK'},\n",
       " {'continent': 'Asia',\n",
       "  'country': 'India',\n",
       "  'currencies': ['INR'],\n",
       "  'languages': ['eng', 'hin'],\n",
       "  'country_code_2': 'IN',\n",
       "  'country_code_3': 'IND'},\n",
       " {'continent': 'Asia',\n",
       "  'country': 'Indonesia',\n",
       "  'currencies': ['IDR'],\n",
       "  'languages': ['ind'],\n",
       "  'country_code_2': 'ID',\n",
       "  'country_code_3': 'IDN'}]"
      ]
     },
     "execution_count": 23,
     "metadata": {},
     "output_type": "execute_result"
    }
   ],
   "source": [
    "res_list[:5]"
   ]
  },
  {
   "cell_type": "markdown",
   "metadata": {},
   "source": [
    "or if you more familiar with dataframe you can convert Directly into dataframe."
   ]
  },
  {
   "cell_type": "code",
   "execution_count": 25,
   "metadata": {},
   "outputs": [],
   "source": [
    "# Convert to Dataframe\n",
    "res_df = results.to_data_frame()"
   ]
  },
  {
   "cell_type": "markdown",
   "metadata": {},
   "source": [
    "Displaying the top 10 result"
   ]
  },
  {
   "cell_type": "code",
   "execution_count": 27,
   "metadata": {},
   "outputs": [
    {
     "data": {
      "text/html": [
       "<div>\n",
       "<style scoped>\n",
       "    .dataframe tbody tr th:only-of-type {\n",
       "        vertical-align: middle;\n",
       "    }\n",
       "\n",
       "    .dataframe tbody tr th {\n",
       "        vertical-align: top;\n",
       "    }\n",
       "\n",
       "    .dataframe thead th {\n",
       "        text-align: right;\n",
       "    }\n",
       "</style>\n",
       "<table border=\"1\" class=\"dataframe\">\n",
       "  <thead>\n",
       "    <tr style=\"text-align: right;\">\n",
       "      <th></th>\n",
       "      <th>continent</th>\n",
       "      <th>country</th>\n",
       "      <th>currencies</th>\n",
       "      <th>languages</th>\n",
       "      <th>country_code_2</th>\n",
       "      <th>country_code_3</th>\n",
       "    </tr>\n",
       "  </thead>\n",
       "  <tbody>\n",
       "    <tr>\n",
       "      <th>0</th>\n",
       "      <td>Americas</td>\n",
       "      <td>Argentina</td>\n",
       "      <td>[ARS]</td>\n",
       "      <td>[spa]</td>\n",
       "      <td>AR</td>\n",
       "      <td>ARG</td>\n",
       "    </tr>\n",
       "    <tr>\n",
       "      <th>1</th>\n",
       "      <td>Americas</td>\n",
       "      <td>Uruguay</td>\n",
       "      <td>[UYU, UYI]</td>\n",
       "      <td>[spa]</td>\n",
       "      <td>UY</td>\n",
       "      <td>URY</td>\n",
       "    </tr>\n",
       "    <tr>\n",
       "      <th>2</th>\n",
       "      <td>Asia</td>\n",
       "      <td>Pakistan</td>\n",
       "      <td>[PKR]</td>\n",
       "      <td>[urd, eng]</td>\n",
       "      <td>PK</td>\n",
       "      <td>PAK</td>\n",
       "    </tr>\n",
       "    <tr>\n",
       "      <th>3</th>\n",
       "      <td>Asia</td>\n",
       "      <td>India</td>\n",
       "      <td>[INR]</td>\n",
       "      <td>[eng, hin]</td>\n",
       "      <td>IN</td>\n",
       "      <td>IND</td>\n",
       "    </tr>\n",
       "    <tr>\n",
       "      <th>4</th>\n",
       "      <td>Asia</td>\n",
       "      <td>Indonesia</td>\n",
       "      <td>[IDR]</td>\n",
       "      <td>[ind]</td>\n",
       "      <td>ID</td>\n",
       "      <td>IDN</td>\n",
       "    </tr>\n",
       "    <tr>\n",
       "      <th>5</th>\n",
       "      <td>Asia</td>\n",
       "      <td>Malaysia</td>\n",
       "      <td>[MYR]</td>\n",
       "      <td>[msa, eng]</td>\n",
       "      <td>MY</td>\n",
       "      <td>MYS</td>\n",
       "    </tr>\n",
       "    <tr>\n",
       "      <th>6</th>\n",
       "      <td>Americas</td>\n",
       "      <td>Chile</td>\n",
       "      <td>[CLP, CLF]</td>\n",
       "      <td>[spa]</td>\n",
       "      <td>CL</td>\n",
       "      <td>CHL</td>\n",
       "    </tr>\n",
       "    <tr>\n",
       "      <th>7</th>\n",
       "      <td>Americas</td>\n",
       "      <td>Bolivia</td>\n",
       "      <td>[BOB, BOV]</td>\n",
       "      <td>[spa, aym, que]</td>\n",
       "      <td>BO</td>\n",
       "      <td>BOL</td>\n",
       "    </tr>\n",
       "    <tr>\n",
       "      <th>8</th>\n",
       "      <td>Americas</td>\n",
       "      <td>Peru</td>\n",
       "      <td>[PEN]</td>\n",
       "      <td>[spa, aym, que]</td>\n",
       "      <td>PE</td>\n",
       "      <td>PER</td>\n",
       "    </tr>\n",
       "    <tr>\n",
       "      <th>9</th>\n",
       "      <td>None</td>\n",
       "      <td>Dhekelia Sovereign Base Area</td>\n",
       "      <td>None</td>\n",
       "      <td>None</td>\n",
       "      <td>-1</td>\n",
       "      <td>None</td>\n",
       "    </tr>\n",
       "  </tbody>\n",
       "</table>\n",
       "</div>"
      ],
      "text/plain": [
       "  continent                       country  currencies        languages  \\\n",
       "0  Americas                     Argentina       [ARS]            [spa]   \n",
       "1  Americas                       Uruguay  [UYU, UYI]            [spa]   \n",
       "2      Asia                      Pakistan       [PKR]       [urd, eng]   \n",
       "3      Asia                         India       [INR]       [eng, hin]   \n",
       "4      Asia                     Indonesia       [IDR]            [ind]   \n",
       "5      Asia                      Malaysia       [MYR]       [msa, eng]   \n",
       "6  Americas                         Chile  [CLP, CLF]            [spa]   \n",
       "7  Americas                       Bolivia  [BOB, BOV]  [spa, aym, que]   \n",
       "8  Americas                          Peru       [PEN]  [spa, aym, que]   \n",
       "9      None  Dhekelia Sovereign Base Area        None             None   \n",
       "\n",
       "  country_code_2 country_code_3  \n",
       "0             AR            ARG  \n",
       "1             UY            URY  \n",
       "2             PK            PAK  \n",
       "3             IN            IND  \n",
       "4             ID            IDN  \n",
       "5             MY            MYS  \n",
       "6             CL            CHL  \n",
       "7             BO            BOL  \n",
       "8             PE            PER  \n",
       "9             -1           None  "
      ]
     },
     "execution_count": 27,
     "metadata": {},
     "output_type": "execute_result"
    }
   ],
   "source": [
    "res_df.head(10)"
   ]
  },
  {
   "cell_type": "markdown",
   "metadata": {},
   "source": [
    "<div style=\"text-align: right\"> <i>yasir's note</i> </div>"
   ]
  },
  {
   "cell_type": "code",
   "execution_count": null,
   "metadata": {},
   "outputs": [],
   "source": []
  }
 ],
 "metadata": {
  "kernelspec": {
   "display_name": "Python 3",
   "language": "python",
   "name": "python3"
  },
  "language_info": {
   "codemirror_mode": {
    "name": "ipython",
    "version": 3
   },
   "file_extension": ".py",
   "mimetype": "text/x-python",
   "name": "python",
   "nbconvert_exporter": "python",
   "pygments_lexer": "ipython3",
   "version": "3.8.5"
  }
 },
 "nbformat": 4,
 "nbformat_minor": 4
}
